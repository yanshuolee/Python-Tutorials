{
 "cells": [
  {
   "cell_type": "markdown",
   "metadata": {},
   "source": [
    "# 流程控制"
   ]
  },
  {
   "cell_type": "markdown",
   "metadata": {},
   "source": [
    "# if 流程圖\n",
    "\n",
    "![](assets/decision_making.jpg)"
   ]
  },
  {
   "cell_type": "code",
   "execution_count": null,
   "metadata": {},
   "outputs": [],
   "source": [
    "# first type\n",
    "if xxx:\n",
    "    yyy\n",
    "\n",
    "# second type\n",
    "if xxx:\n",
    "    yyy\n",
    "else:\n",
    "    zzz\n",
    "\n",
    "# third type\n",
    "if xxx:\n",
    "    yyy\n",
    "elif zzz:\n",
    "    aaa\n",
    "elif qqq:\n",
    "    www\n",
    "else:\n",
    "    bbb"
   ]
  },
  {
   "cell_type": "markdown",
   "metadata": {},
   "source": [
    "# 迴圈流程圖\n",
    "\n",
    "![](assets/loop_architecture.jpg)"
   ]
  },
  {
   "cell_type": "markdown",
   "metadata": {},
   "source": [
    "### while loop"
   ]
  },
  {
   "cell_type": "code",
   "execution_count": 5,
   "metadata": {
    "ExecuteTime": {
     "end_time": "2020-11-06T05:56:57.979425Z",
     "start_time": "2020-11-06T05:56:57.963512Z"
    },
    "scrolled": true
   },
   "outputs": [
    {
     "name": "stdout",
     "output_type": "stream",
     "text": [
      "20\n",
      "19\n",
      "18\n",
      "17\n",
      "16\n",
      "15\n",
      "14\n",
      "13\n",
      "12\n",
      "11\n",
      "10\n",
      "9\n",
      "8\n",
      "7\n",
      "6\n",
      "5\n",
      "4\n",
      "3\n",
      "2\n",
      "1\n"
     ]
    }
   ],
   "source": [
    "x = 20\n",
    "while x > 0:\n",
    "    print(x)\n",
    "    x -= 1 # x = x - 1"
   ]
  },
  {
   "cell_type": "code",
   "execution_count": 6,
   "metadata": {
    "ExecuteTime": {
     "end_time": "2020-11-06T05:58:06.584311Z",
     "start_time": "2020-11-06T05:58:06.565232Z"
    }
   },
   "outputs": [
    {
     "name": "stdout",
     "output_type": "stream",
     "text": [
      "20\n",
      "19\n",
      "18\n",
      "17\n",
      "16\n",
      "15\n",
      "14\n",
      "13\n",
      "12\n",
      "11\n",
      "10\n",
      "9\n",
      "8\n",
      "7\n",
      "6\n",
      "5\n",
      "4\n",
      "3\n",
      "2\n",
      "1\n"
     ]
    }
   ],
   "source": [
    "def F(num):\n",
    "    if num > 0:\n",
    "        return True # 非0\n",
    "    else:\n",
    "        return False # 0\n",
    "x = 20\n",
    "while F(x):\n",
    "    print(x)\n",
    "    x -= 1 "
   ]
  },
  {
   "cell_type": "markdown",
   "metadata": {},
   "source": [
    "終止方式:\n",
    "1. 條件不符合\n",
    "2. 使用保留字 break"
   ]
  },
  {
   "cell_type": "markdown",
   "metadata": {},
   "source": [
    "### for loop"
   ]
  },
  {
   "cell_type": "code",
   "execution_count": null,
   "metadata": {},
   "outputs": [],
   "source": [
    "for 變數 in 清單:\n",
    "    xxx"
   ]
  },
  {
   "cell_type": "code",
   "execution_count": 8,
   "metadata": {
    "ExecuteTime": {
     "end_time": "2020-11-06T06:02:12.599565Z",
     "start_time": "2020-11-06T06:02:12.591296Z"
    }
   },
   "outputs": [
    {
     "data": {
      "text/plain": [
       "'t'"
      ]
     },
     "execution_count": 8,
     "metadata": {},
     "output_type": "execute_result"
    }
   ],
   "source": [
    "name = \"Patrick\"\n",
    "name[2]"
   ]
  },
  {
   "cell_type": "markdown",
   "metadata": {},
   "source": [
    "終止方式:\n",
    "1. 跑完所有清單"
   ]
  },
  {
   "cell_type": "code",
   "execution_count": 1,
   "metadata": {
    "ExecuteTime": {
     "end_time": "2020-11-04T06:39:00.520479Z",
     "start_time": "2020-11-04T06:39:00.499001Z"
    }
   },
   "outputs": [
    {
     "name": "stdout",
     "output_type": "stream",
     "text": [
      "P\n",
      "a\n",
      "t\n",
      "r\n",
      "i\n",
      "c\n",
      "k\n"
     ]
    }
   ],
   "source": [
    "for char in \"Patrick\":\n",
    "    print(char)"
   ]
  },
  {
   "cell_type": "code",
   "execution_count": 2,
   "metadata": {
    "ExecuteTime": {
     "end_time": "2020-11-04T06:39:42.163306Z",
     "start_time": "2020-11-04T06:39:42.150272Z"
    }
   },
   "outputs": [
    {
     "name": "stdout",
     "output_type": "stream",
     "text": [
      "Hi\n",
      "12\n",
      "23.567\n",
      "Woo\n"
     ]
    }
   ],
   "source": [
    "for element in [\"Hi\", 12, 23.567, \"Woo\"]:\n",
    "    print(element)"
   ]
  },
  {
   "cell_type": "code",
   "execution_count": 3,
   "metadata": {
    "ExecuteTime": {
     "end_time": "2020-11-04T06:40:14.186126Z",
     "start_time": "2020-11-04T06:40:14.174111Z"
    }
   },
   "outputs": [
    {
     "name": "stdout",
     "output_type": "stream",
     "text": [
      "0\n",
      "1\n",
      "2\n",
      "3\n",
      "4\n",
      "5\n",
      "6\n",
      "7\n",
      "8\n",
      "9\n"
     ]
    }
   ],
   "source": [
    "for num in range(10):\n",
    "    print(num)"
   ]
  },
  {
   "cell_type": "code",
   "execution_count": 9,
   "metadata": {
    "ExecuteTime": {
     "end_time": "2020-11-06T06:03:48.708094Z",
     "start_time": "2020-11-06T06:03:48.701419Z"
    }
   },
   "outputs": [
    {
     "data": {
      "text/plain": [
       "range(0, 100000000000000)"
      ]
     },
     "execution_count": 9,
     "metadata": {},
     "output_type": "execute_result"
    }
   ],
   "source": [
    "range(100000000000000)"
   ]
  },
  {
   "cell_type": "markdown",
   "metadata": {},
   "source": [
    "range(起始, 終止(不包含), 步伐大小)"
   ]
  },
  {
   "cell_type": "code",
   "execution_count": 5,
   "metadata": {
    "ExecuteTime": {
     "end_time": "2020-11-04T06:41:29.492313Z",
     "start_time": "2020-11-04T06:41:29.477314Z"
    }
   },
   "outputs": [
    {
     "name": "stdout",
     "output_type": "stream",
     "text": [
      "2\n",
      "4\n",
      "6\n",
      "8\n"
     ]
    }
   ],
   "source": [
    "for num in range(2, 10, 2):\n",
    "    print(num)"
   ]
  },
  {
   "cell_type": "code",
   "execution_count": 17,
   "metadata": {
    "ExecuteTime": {
     "end_time": "2020-11-06T06:14:22.975204Z",
     "start_time": "2020-11-06T06:14:22.956277Z"
    }
   },
   "outputs": [
    {
     "name": "stdout",
     "output_type": "stream",
     "text": [
      "element 1 is 變數 / element 2 is 變數\n",
      "element 1 is Hi / element 2 is Patrick\n",
      "element 1 is 12 / element 2 is 12\n",
      "element 1 is 23.567 / element 2 is 23.567\n"
     ]
    }
   ],
   "source": [
    "pa = \"變數\"\n",
    "ck = \"變數\"\n",
    "print(f\"element 1 is {pa} / element 2 is {ck}\")\n",
    "for pa, ck in zip([\"Hi\", 12, 23.567, \"Woo\"], [\"Patrick\", 12, 23.567]):\n",
    "    print(f\"element 1 is {pa} / element 2 is {ck}\")"
   ]
  },
  {
   "cell_type": "code",
   "execution_count": 16,
   "metadata": {
    "ExecuteTime": {
     "end_time": "2020-11-06T06:14:11.841825Z",
     "start_time": "2020-11-06T06:14:11.825888Z"
    }
   },
   "outputs": [
    {
     "data": {
      "text/plain": [
       "23.567"
      ]
     },
     "execution_count": 16,
     "metadata": {},
     "output_type": "execute_result"
    }
   ],
   "source": [
    "ck"
   ]
  },
  {
   "cell_type": "code",
   "execution_count": 8,
   "metadata": {
    "ExecuteTime": {
     "end_time": "2020-11-04T06:45:04.842455Z",
     "start_time": "2020-11-04T06:45:04.836473Z"
    }
   },
   "outputs": [
    {
     "name": "stdout",
     "output_type": "stream",
     "text": [
      "element no.0 is Hi\n",
      "element no.1 is 12\n",
      "element no.2 is 23.567\n",
      "element no.3 is Woo\n"
     ]
    }
   ],
   "source": [
    "for ind, element in enumerate([\"Hi\", 12, 23.567, \"Woo\"]):\n",
    "    print(f\"element no.{ind} is {element}\")"
   ]
  },
  {
   "cell_type": "code",
   "execution_count": 21,
   "metadata": {
    "ExecuteTime": {
     "end_time": "2020-11-06T06:28:41.405417Z",
     "start_time": "2020-11-06T06:28:34.508249Z"
    }
   },
   "outputs": [],
   "source": [
    "import pandas as pd\n",
    "import numpy as np"
   ]
  },
  {
   "cell_type": "code",
   "execution_count": 31,
   "metadata": {
    "ExecuteTime": {
     "end_time": "2020-11-06T06:39:34.253939Z",
     "start_time": "2020-11-06T06:39:34.248312Z"
    }
   },
   "outputs": [
    {
     "data": {
      "text/plain": [
       "{'name': ['派翠克派翠克派翠克派翠克派翠克派翠克派翠克', 'John'],\n",
       " 'age': [18, 20],\n",
       " 'email': ['aa', 'bb']}"
      ]
     },
     "execution_count": 31,
     "metadata": {},
     "output_type": "execute_result"
    }
   ],
   "source": [
    "data = {\n",
    "    \"name\":[\"派翠克派翠克派翠克派翠克派翠克派翠克派翠克\", \"John\"],\n",
    "    \"age\":[18,20],\n",
    "    \"email\":[\"aa\",\"bb\"]\n",
    "}\n",
    "data"
   ]
  },
  {
   "cell_type": "code",
   "execution_count": 32,
   "metadata": {
    "ExecuteTime": {
     "end_time": "2020-11-06T06:39:36.695750Z",
     "start_time": "2020-11-06T06:39:36.674531Z"
    }
   },
   "outputs": [
    {
     "data": {
      "text/html": [
       "<div>\n",
       "<style scoped>\n",
       "    .dataframe tbody tr th:only-of-type {\n",
       "        vertical-align: middle;\n",
       "    }\n",
       "\n",
       "    .dataframe tbody tr th {\n",
       "        vertical-align: top;\n",
       "    }\n",
       "\n",
       "    .dataframe thead th {\n",
       "        text-align: right;\n",
       "    }\n",
       "</style>\n",
       "<table border=\"1\" class=\"dataframe\">\n",
       "  <thead>\n",
       "    <tr style=\"text-align: right;\">\n",
       "      <th></th>\n",
       "      <th>name</th>\n",
       "      <th>age</th>\n",
       "      <th>email</th>\n",
       "    </tr>\n",
       "  </thead>\n",
       "  <tbody>\n",
       "    <tr>\n",
       "      <th>0</th>\n",
       "      <td>派翠克派翠克派翠克派翠克派翠克派翠克派翠克</td>\n",
       "      <td>18</td>\n",
       "      <td>aa</td>\n",
       "    </tr>\n",
       "    <tr>\n",
       "      <th>1</th>\n",
       "      <td>John</td>\n",
       "      <td>20</td>\n",
       "      <td>bb</td>\n",
       "    </tr>\n",
       "  </tbody>\n",
       "</table>\n",
       "</div>"
      ],
      "text/plain": [
       "                    name  age email\n",
       "0  派翠克派翠克派翠克派翠克派翠克派翠克派翠克   18    aa\n",
       "1                   John   20    bb"
      ]
     },
     "execution_count": 32,
     "metadata": {},
     "output_type": "execute_result"
    }
   ],
   "source": [
    "myTable = pd.DataFrame(data)\n",
    "myTable"
   ]
  },
  {
   "cell_type": "code",
   "execution_count": 33,
   "metadata": {
    "ExecuteTime": {
     "end_time": "2020-11-06T06:39:47.375482Z",
     "start_time": "2020-11-06T06:39:47.360889Z"
    }
   },
   "outputs": [
    {
     "name": "stdout",
     "output_type": "stream",
     "text": [
      "                    name  age email\n",
      "0  派翠克派翠克派翠克派翠克派翠克派翠克派翠克   18    aa\n",
      "1                   John   20    bb\n"
     ]
    }
   ],
   "source": [
    "print(myTable)"
   ]
  },
  {
   "cell_type": "code",
   "execution_count": 27,
   "metadata": {
    "ExecuteTime": {
     "end_time": "2020-11-06T06:34:45.269357Z",
     "start_time": "2020-11-06T06:34:45.248147Z"
    }
   },
   "outputs": [
    {
     "data": {
      "text/plain": [
       "0    Patrick\n",
       "1       John\n",
       "Name: name, dtype: object"
      ]
     },
     "execution_count": 27,
     "metadata": {},
     "output_type": "execute_result"
    }
   ],
   "source": [
    "myTable[\"name\"]"
   ]
  },
  {
   "cell_type": "code",
   "execution_count": 42,
   "metadata": {
    "ExecuteTime": {
     "end_time": "2020-11-06T06:42:15.619912Z",
     "start_time": "2020-11-06T06:42:15.601559Z"
    }
   },
   "outputs": [
    {
     "data": {
      "text/plain": [
       "[1, 2, 3, 4, 5]"
      ]
     },
     "execution_count": 42,
     "metadata": {},
     "output_type": "execute_result"
    }
   ],
   "source": [
    "a = [1,2,3,4,5]\n",
    "a"
   ]
  },
  {
   "cell_type": "code",
   "execution_count": 40,
   "metadata": {
    "ExecuteTime": {
     "end_time": "2020-11-06T06:42:02.383309Z",
     "start_time": "2020-11-06T06:42:02.368528Z"
    }
   },
   "outputs": [],
   "source": [
    "a.append([1,2,3])"
   ]
  },
  {
   "cell_type": "code",
   "execution_count": 41,
   "metadata": {
    "ExecuteTime": {
     "end_time": "2020-11-06T06:42:08.108745Z",
     "start_time": "2020-11-06T06:42:08.089712Z"
    }
   },
   "outputs": [
    {
     "data": {
      "text/plain": [
       "[1, 2, 3, 4, 5, [1, 2, 3]]"
      ]
     },
     "execution_count": 41,
     "metadata": {},
     "output_type": "execute_result"
    }
   ],
   "source": [
    "a"
   ]
  },
  {
   "cell_type": "code",
   "execution_count": 43,
   "metadata": {
    "ExecuteTime": {
     "end_time": "2020-11-06T06:42:21.934117Z",
     "start_time": "2020-11-06T06:42:21.920935Z"
    }
   },
   "outputs": [],
   "source": [
    "aa = np.array(a)"
   ]
  },
  {
   "cell_type": "code",
   "execution_count": 44,
   "metadata": {
    "ExecuteTime": {
     "end_time": "2020-11-06T06:42:24.255813Z",
     "start_time": "2020-11-06T06:42:24.239797Z"
    }
   },
   "outputs": [
    {
     "data": {
      "text/plain": [
       "array([1, 2, 3, 4, 5])"
      ]
     },
     "execution_count": 44,
     "metadata": {},
     "output_type": "execute_result"
    }
   ],
   "source": [
    "aa"
   ]
  },
  {
   "cell_type": "code",
   "execution_count": 46,
   "metadata": {
    "ExecuteTime": {
     "end_time": "2020-11-06T06:42:52.086613Z",
     "start_time": "2020-11-06T06:42:52.075495Z"
    }
   },
   "outputs": [
    {
     "data": {
      "text/plain": [
       "array([1, 2, 3, 4, 5, 1, 2, 3])"
      ]
     },
     "execution_count": 46,
     "metadata": {},
     "output_type": "execute_result"
    }
   ],
   "source": [
    "np.append(aa,[1,2,3])"
   ]
  }
 ],
 "metadata": {
  "kernelspec": {
   "display_name": "Python 3.7.4 64-bit",
   "language": "python",
   "name": "python37464bit5088acbaa1404af3b72ab47c6b029e2a"
  },
  "language_info": {
   "codemirror_mode": {
    "name": "ipython",
    "version": 3
   },
   "file_extension": ".py",
   "mimetype": "text/x-python",
   "name": "python",
   "nbconvert_exporter": "python",
   "pygments_lexer": "ipython3",
   "version": "3.7.4"
  }
 },
 "nbformat": 4,
 "nbformat_minor": 4
}
