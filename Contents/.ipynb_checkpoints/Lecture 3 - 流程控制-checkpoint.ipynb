{
 "cells": [
  {
   "cell_type": "markdown",
   "metadata": {},
   "source": [
    "# 流程控制"
   ]
  },
  {
   "cell_type": "markdown",
   "metadata": {},
   "source": [
    "# if 流程圖\n",
    "\n",
    "![](assets/decision_making.jpg)"
   ]
  },
  {
   "cell_type": "code",
   "execution_count": null,
   "metadata": {},
   "outputs": [],
   "source": [
    "# first type\n",
    "if xxx:\n",
    "    yyy\n",
    "\n",
    "# second type\n",
    "if xxx:\n",
    "    yyy\n",
    "else:\n",
    "    zzz\n",
    "\n",
    "# third type\n",
    "if xxx:\n",
    "    yyy\n",
    "elif zzz:\n",
    "    aaa\n",
    "else:\n",
    "    bbb"
   ]
  },
  {
   "cell_type": "markdown",
   "metadata": {},
   "source": [
    "# 迴圈流程圖\n",
    "\n",
    "![](assets/loop_architecture.jpg)"
   ]
  },
  {
   "cell_type": "markdown",
   "metadata": {},
   "source": [
    "### while loop"
   ]
  },
  {
   "cell_type": "code",
   "execution_count": null,
   "metadata": {},
   "outputs": [],
   "source": [
    "while xxx:\n",
    "    yyy"
   ]
  },
  {
   "cell_type": "markdown",
   "metadata": {},
   "source": [
    "終止方式:\n",
    "1. 條件不符合\n",
    "2. 使用保留字 break"
   ]
  },
  {
   "cell_type": "markdown",
   "metadata": {},
   "source": [
    "### for loop"
   ]
  },
  {
   "cell_type": "code",
   "execution_count": null,
   "metadata": {},
   "outputs": [],
   "source": [
    "for 變數 in 清單:\n",
    "    xxx"
   ]
  },
  {
   "cell_type": "markdown",
   "metadata": {},
   "source": [
    "終止方式:\n",
    "1. 跑完所有清單"
   ]
  },
  {
   "cell_type": "code",
   "execution_count": 1,
   "metadata": {
    "ExecuteTime": {
     "end_time": "2020-11-04T06:39:00.520479Z",
     "start_time": "2020-11-04T06:39:00.499001Z"
    }
   },
   "outputs": [
    {
     "name": "stdout",
     "output_type": "stream",
     "text": [
      "P\n",
      "a\n",
      "t\n",
      "r\n",
      "i\n",
      "c\n",
      "k\n"
     ]
    }
   ],
   "source": [
    "for char in \"Patrick\":\n",
    "    print(char)"
   ]
  },
  {
   "cell_type": "code",
   "execution_count": 2,
   "metadata": {
    "ExecuteTime": {
     "end_time": "2020-11-04T06:39:42.163306Z",
     "start_time": "2020-11-04T06:39:42.150272Z"
    }
   },
   "outputs": [
    {
     "name": "stdout",
     "output_type": "stream",
     "text": [
      "Hi\n",
      "12\n",
      "23.567\n",
      "Woo\n"
     ]
    }
   ],
   "source": [
    "for element in [\"Hi\", 12, 23.567, \"Woo\"]:\n",
    "    print(element)"
   ]
  },
  {
   "cell_type": "code",
   "execution_count": 3,
   "metadata": {
    "ExecuteTime": {
     "end_time": "2020-11-04T06:40:14.186126Z",
     "start_time": "2020-11-04T06:40:14.174111Z"
    }
   },
   "outputs": [
    {
     "name": "stdout",
     "output_type": "stream",
     "text": [
      "0\n",
      "1\n",
      "2\n",
      "3\n",
      "4\n",
      "5\n",
      "6\n",
      "7\n",
      "8\n",
      "9\n"
     ]
    }
   ],
   "source": [
    "for num in range(10):\n",
    "    print(num)"
   ]
  },
  {
   "cell_type": "code",
   "execution_count": 4,
   "metadata": {
    "ExecuteTime": {
     "end_time": "2020-11-04T06:40:20.178951Z",
     "start_time": "2020-11-04T06:40:20.163951Z"
    }
   },
   "outputs": [
    {
     "data": {
      "text/plain": [
       "range(0, 10)"
      ]
     },
     "execution_count": 4,
     "metadata": {},
     "output_type": "execute_result"
    }
   ],
   "source": [
    "range(10)"
   ]
  },
  {
   "cell_type": "markdown",
   "metadata": {},
   "source": [
    "range(起始, 終止(不包含), 步伐大小)"
   ]
  },
  {
   "cell_type": "code",
   "execution_count": 5,
   "metadata": {
    "ExecuteTime": {
     "end_time": "2020-11-04T06:41:29.492313Z",
     "start_time": "2020-11-04T06:41:29.477314Z"
    }
   },
   "outputs": [
    {
     "name": "stdout",
     "output_type": "stream",
     "text": [
      "2\n",
      "4\n",
      "6\n",
      "8\n"
     ]
    }
   ],
   "source": [
    "for num in range(2, 10, 2):\n",
    "    print(num)"
   ]
  },
  {
   "cell_type": "code",
   "execution_count": 7,
   "metadata": {
    "ExecuteTime": {
     "end_time": "2020-11-04T06:44:07.139475Z",
     "start_time": "2020-11-04T06:44:07.133495Z"
    }
   },
   "outputs": [
    {
     "name": "stdout",
     "output_type": "stream",
     "text": [
      "element 1 is Hi / element 2 is Hi\n",
      "element 1 is 12 / element 2 is 12\n",
      "element 1 is 23.567 / element 2 is 23.567\n",
      "element 1 is Woo / element 2 is Woo\n"
     ]
    }
   ],
   "source": [
    "for element1, element2 in zip([\"Hi\", 12, 23.567, \"Woo\"], [\"Hi\", 12, 23.567, \"Woo\"]):\n",
    "    print(f\"element 1 is {element1} / element 2 is {element2}\")"
   ]
  },
  {
   "cell_type": "code",
   "execution_count": 8,
   "metadata": {
    "ExecuteTime": {
     "end_time": "2020-11-04T06:45:04.842455Z",
     "start_time": "2020-11-04T06:45:04.836473Z"
    }
   },
   "outputs": [
    {
     "name": "stdout",
     "output_type": "stream",
     "text": [
      "element no.0 is Hi\n",
      "element no.1 is 12\n",
      "element no.2 is 23.567\n",
      "element no.3 is Woo\n"
     ]
    }
   ],
   "source": [
    "for ind, element in enumerate([\"Hi\", 12, 23.567, \"Woo\"]):\n",
    "    print(f\"element no.{ind} is {element}\")"
   ]
  }
 ],
 "metadata": {
  "kernelspec": {
   "display_name": "Python 3.7.4 64-bit",
   "language": "python",
   "name": "python37464bit5088acbaa1404af3b72ab47c6b029e2a"
  },
  "language_info": {
   "codemirror_mode": {
    "name": "ipython",
    "version": 3
   },
   "file_extension": ".py",
   "mimetype": "text/x-python",
   "name": "python",
   "nbconvert_exporter": "python",
   "pygments_lexer": "ipython3",
   "version": "3.7.4"
  }
 },
 "nbformat": 4,
 "nbformat_minor": 4
}
