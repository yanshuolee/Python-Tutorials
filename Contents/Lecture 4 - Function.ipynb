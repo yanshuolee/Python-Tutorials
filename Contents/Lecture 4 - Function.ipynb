{
 "cells": [
  {
   "cell_type": "markdown",
   "metadata": {},
   "source": [
    "# Function\n",
    "a block of organized, **reusable** code that is used to perform a **single**, related action."
   ]
  },
  {
   "cell_type": "code",
   "execution_count": null,
   "metadata": {},
   "outputs": [],
   "source": [
    "def 買咖啡(身上的錢, 去哪裡買, 哪種咖啡):\n",
    "    走到門口\n",
    "    搭電梯到一樓\n",
    "    走到{去哪裡買}\n",
    "    if 身上的錢 < {哪種咖啡}的錢:\n",
    "        {哪種咖啡} = 選一個咖啡小於{身上的錢}\n",
    "    向店員點{哪種咖啡}\n",
    "    拿取咖啡\n",
    "    return 辦公室\n",
    "\n",
    "買咖啡(100, 7-11, 拿鐵)"
   ]
  },
  {
   "cell_type": "code",
   "execution_count": null,
   "metadata": {
    "ExecuteTime": {
     "end_time": "2020-11-11T02:31:38.947410Z",
     "start_time": "2020-11-11T02:31:38.933137Z"
    }
   },
   "outputs": [],
   "source": [
    "def countToOne():\n",
    "    num = 10\n",
    "    while num >= 1:\n",
    "        print(f\"Number {num}\")\n",
    "        num -= 1\n",
    "\n",
    "countToOne()"
   ]
  },
  {
   "cell_type": "code",
   "execution_count": null,
   "metadata": {
    "ExecuteTime": {
     "end_time": "2020-11-11T02:31:00.961247Z",
     "start_time": "2020-11-11T02:31:00.947960Z"
    }
   },
   "outputs": [],
   "source": [
    "def countToOne(num):\n",
    "    while num >= 1:\n",
    "        print(f\"Number {num}\")\n",
    "        num -= 1\n",
    "\n",
    "countToOne(9)"
   ]
  },
  {
   "cell_type": "code",
   "execution_count": null,
   "metadata": {
    "ExecuteTime": {
     "end_time": "2020-11-11T02:34:10.430562Z",
     "start_time": "2020-11-11T02:34:10.419513Z"
    }
   },
   "outputs": [],
   "source": [
    "def myFunc(*var):\n",
    "    print(f\"*var = {var}\")\n",
    "    print(f\"type = {type(var)}\")"
   ]
  },
  {
   "cell_type": "code",
   "execution_count": null,
   "metadata": {
    "ExecuteTime": {
     "end_time": "2020-11-11T02:34:15.483192Z",
     "start_time": "2020-11-11T02:34:15.467577Z"
    }
   },
   "outputs": [],
   "source": [
    "myFunc(1,\"hi\", 23.6)"
   ]
  },
  {
   "cell_type": "code",
   "execution_count": null,
   "metadata": {
    "ExecuteTime": {
     "end_time": "2020-11-11T02:34:23.364858Z",
     "start_time": "2020-11-11T02:34:23.348033Z"
    }
   },
   "outputs": [],
   "source": [
    "myFunc(1)"
   ]
  },
  {
   "cell_type": "code",
   "execution_count": null,
   "metadata": {
    "ExecuteTime": {
     "end_time": "2020-11-11T02:36:57.494356Z",
     "start_time": "2020-11-11T02:36:57.486785Z"
    }
   },
   "outputs": [],
   "source": [
    "# global vs local variable\n",
    "def F(num):\n",
    "    while num >= 1:\n",
    "        print(f\"Number {num}\")\n",
    "        num -= 1\n",
    "    print(f\"Number in function: {num}\")\n",
    "\n",
    "num = 10\n",
    "F(num)\n",
    "print(f\"Number out of function: {num}\")"
   ]
  },
  {
   "cell_type": "code",
   "execution_count": null,
   "metadata": {},
   "outputs": [],
   "source": [
    "import lecture4"
   ]
  },
  {
   "cell_type": "code",
   "execution_count": null,
   "metadata": {
    "ExecuteTime": {
     "end_time": "2020-11-11T03:02:25.582437Z",
     "start_time": "2020-11-11T03:02:25.572989Z"
    }
   },
   "outputs": [],
   "source": [
    "lecture4.whereami()"
   ]
  },
  {
   "cell_type": "code",
   "execution_count": null,
   "metadata": {
    "ExecuteTime": {
     "end_time": "2020-11-11T03:03:25.146252Z",
     "start_time": "2020-11-11T03:03:25.132134Z"
    }
   },
   "outputs": [],
   "source": [
    "lecture4.multiplicationTable()"
   ]
  }
 ],
 "metadata": {
  "kernelspec": {
   "display_name": "Python 3.7.4 64-bit",
   "language": "python",
   "name": "python37464bit5088acbaa1404af3b72ab47c6b029e2a"
  },
  "language_info": {
   "codemirror_mode": {
    "name": "ipython",
    "version": 3
   },
   "file_extension": ".py",
   "mimetype": "text/x-python",
   "name": "python",
   "nbconvert_exporter": "python",
   "pygments_lexer": "ipython3",
   "version": "3.7.4"
  }
 },
 "nbformat": 4,
 "nbformat_minor": 4
}
